{
 "cells": [
  {
   "cell_type": "code",
   "execution_count": 1,
   "metadata": {},
   "outputs": [],
   "source": [
    "import MetaTrader5 as mt5\n",
    "import pandas as pd\n",
    "from datetime import time\n",
    "import datetime\n",
    "import asyncio\n",
    "import schedule\n",
    "import time"
   ]
  },
  {
   "cell_type": "code",
   "execution_count": 6,
   "metadata": {},
   "outputs": [
    {
     "data": {
      "text/plain": [
       "True"
      ]
     },
     "execution_count": 6,
     "metadata": {},
     "output_type": "execute_result"
    }
   ],
   "source": [
    "mt5.initialize()"
   ]
  },
  {
   "cell_type": "code",
   "execution_count": 142,
   "metadata": {},
   "outputs": [],
   "source": [
    "login= '5000239894'\n",
    "password = 'ggijz5bu'\n",
    "server = 'MetaQuotes-Demo'"
   ]
  },
  {
   "cell_type": "code",
   "execution_count": 12,
   "metadata": {},
   "outputs": [
    {
     "name": "stdout",
     "output_type": "stream",
     "text": [
      "AccountInfo(login=5000684479, trade_mode=0, leverage=100, limit_orders=200, margin_so_mode=0, trade_allowed=True, trade_expert=True, margin_mode=2, currency_digits=2, fifo_close=False, balance=10000.0, credit=0.0, profit=0.28, equity=10000.28, margin=11.3, margin_free=9988.98, margin_level=88498.05309734514, margin_so_call=50.0, margin_so_so=30.0, margin_initial=0.0, margin_maintenance=0.0, assets=0.0, liabilities=0.0, commission_blocked=0.0, name='MetaTrader 5 Desktop Demo', server='MetaQuotes-Demo', ...)\n"
     ]
    }
   ],
   "source": [
    "accnt_inf = mt5.account_info()\n",
    "print(accnt_inf)"
   ]
  },
  {
   "cell_type": "code",
   "execution_count": 7,
   "metadata": {},
   "outputs": [],
   "source": [
    "asks = mt5.symbol_info(\"EURUSD\").ask\n",
    "bids = asks = mt5.symbol_info(\"EURUSD\").bid\n",
    "profit =mt5.account_info().profit\n",
    "pos_total = mt5.positions_total()\n",
    "symbol_info = mt5.symbol_info(\"EURUSD\")\n",
    "pos_total = mt5.positions_total()\n",
    "#print(asks, bids, profit)"
   ]
  },
  {
   "cell_type": "code",
   "execution_count": 13,
   "metadata": {},
   "outputs": [
    {
     "name": "stdout",
     "output_type": "stream",
     "text": [
      "Tick(time=1643144983, bid=1.12976, ask=1.12976, last=0.0, volume=0, time_msc=1643144983840, flags=6, volume_real=0.0)\n"
     ]
    }
   ],
   "source": [
    "curr_price = mt5.symbol_info_tick(\"EURUSD\")\n",
    "print(curr_price)"
   ]
  },
  {
   "cell_type": "code",
   "execution_count": 7,
   "metadata": {},
   "outputs": [],
   "source": [
    "equity =  mt5.account_info().equity\n",
    "balance = mt5.account_info().balance\n",
    "pos_total = mt5.positions_total()\n",
    "profit =mt5.account_info().profit"
   ]
  },
  {
   "cell_type": "code",
   "execution_count": 11,
   "metadata": {},
   "outputs": [
    {
     "name": "stdout",
     "output_type": "stream",
     "text": [
      "initaiting trade...\n",
      "10000.0 10000.0\n",
      "OrderSendResult(retcode=10009, deal=50031880215, order=50031166774, volume=0.01, price=1.1295, bid=1.1295, ask=1.1295, comment='Request executed', request_id=1, retcode_external=0, request=TradeRequest(action=1, magic=0, order=0, symbol='EURUSD', volume=0.01, price=1.1295, stoplimit=0.0, sl=0.0, tp=0.0, deviation=0, type=0, type_filling=1, type_time=0, expiration=0, comment='python script', position=0, position_by=0))\n"
     ]
    }
   ],
   "source": [
    "equity =  mt5.account_info().equity\n",
    "balance = mt5.account_info().balance\n",
    "pos_total = mt5.positions_total()\n",
    "profit =mt5.account_info().profit\n",
    "\n",
    "async def decoy():\n",
    "    await asyncio.sleep(20)\n",
    "    if pos_total == 0:\n",
    "        request = {\n",
    "\n",
    "            \"action\"    : mt5.TRADE_ACTION_DEAL,\n",
    "            \"symbol\"    : \"EURUSD\",\n",
    "            \"volume\"    : 0.01,\n",
    "            \"type\"      : mt5.ORDER_TYPE_BUY,\n",
    "            \"price\"     : mt5.symbol_info(\"EURUSD\").ask,\n",
    "            \"sl\"        : 0.0,\n",
    "            \"tp\"        : 0.0,\n",
    "            \"comment\"   : \"python script\",\n",
    "            \"type_time\" : mt5.ORDER_TIME_GTC,\n",
    "            \"type_filling\" : mt5.ORDER_FILLING_IOC,\n",
    "        }\n",
    "    fakess = mt5.order_send(request)\n",
    "    print(fakess)\n",
    "\n",
    "equity =  mt5.account_info().equity\n",
    "balance = mt5.account_info().balance\n",
    "    \n",
    "\n",
    "async def real_trade_by():\n",
    "    while True:\n",
    "        await asyncio.sleep(70)\n",
    "        if equity > balance:\n",
    "                request = {\n",
    "                    \"action\"    : mt5.TRADE_ACTION_DEAL,\n",
    "                    \"symbol\"    : \"EURUSD\",\n",
    "                    \"volume\"    : 0.05,\n",
    "                    \"type\"      : mt5.ORDER_TYPE_BUY,\n",
    "                    \"price\"     : mt5.symbol_info(\"EURUSD\").ask,\n",
    "                    \"sl\"        : 0.0,\n",
    "                    \"tp\"        : 0.0,\n",
    "                    \"comment\"   : \"python script\",\n",
    "                    \"type_time\" : mt5.ORDER_TIME_GTC,\n",
    "                    \"type_filling\" : mt5.ORDER_FILLING_IOC,   \n",
    "                }\n",
    "                n = mt5.order_send(request)\n",
    "                print(n)\n",
    "\n",
    "equity =  mt5.account_info().equity\n",
    "balance = mt5.account_info().balance\n",
    "    \n",
    "\n",
    "async def real_trade_sell():\n",
    "    while True:\n",
    "        await asyncio.sleep(60)   \n",
    "        if balance > equity:\n",
    "            \n",
    "                request = {\n",
    "\n",
    "                    \"action\"    : mt5.TRADE_ACTION_DEAL,\n",
    "                    \"symbol\"    : \"EURUSD\",\n",
    "                    \"volume\"    : 0.05,\n",
    "                    \"type\"      : mt5.ORDER_TYPE_SELL,\n",
    "                    \"price\"     : mt5.symbol_info(\"EURUSD\").bid,\n",
    "                    \"sl\"        : 0.0,\n",
    "                    \"tp\"        : 0.0,\n",
    "                    \"comment\"   : \"python script\",\n",
    "                    \"type_time\" : mt5.ORDER_TIME_GTC,\n",
    "                    \"type_filling\" : mt5.ORDER_FILLING_IOC,\n",
    "                }\n",
    "                o = mt5.order_send(request)\n",
    "                print(o)\n",
    "\n",
    "loop = asyncio.get_event_loop()\n",
    "try:\n",
    "    asyncio.ensure_future(decoy())\n",
    "    asyncio.ensure_future(real_trade_by()) \n",
    "    asyncio.ensure_future(real_trade_sell())\n",
    "    \n",
    "except KeyboardInterrupt:\n",
    "    pass\n",
    "finally:\n",
    "    print(\"initaiting trade...\")\n",
    "    print(equity, balance)\n"
   ]
  },
  {
   "cell_type": "code",
   "execution_count": null,
   "metadata": {},
   "outputs": [],
   "source": [
    "asyncio.cancel"
   ]
  },
  {
   "cell_type": "code",
   "execution_count": 10,
   "metadata": {},
   "outputs": [
    {
     "name": "stdout",
     "output_type": "stream",
     "text": [
      "1.13376 1.13376 0.0\n"
     ]
    }
   ],
   "source": []
  },
  {
   "cell_type": "code",
   "execution_count": null,
   "metadata": {},
   "outputs": [],
   "source": []
  },
  {
   "cell_type": "code",
   "execution_count": null,
   "metadata": {},
   "outputs": [],
   "source": []
  },
  {
   "cell_type": "code",
   "execution_count": null,
   "metadata": {},
   "outputs": [],
   "source": []
  }
 ],
 "metadata": {
  "interpreter": {
   "hash": "3be8e642833d8d0e377dddc4e94ba516b94f0423b7a772bbb7e205639dda0a53"
  },
  "kernelspec": {
   "display_name": "Python 3.7.9 64-bit (windows store)",
   "language": "python",
   "name": "python3"
  },
  "language_info": {
   "codemirror_mode": {
    "name": "ipython",
    "version": 3
   },
   "file_extension": ".py",
   "mimetype": "text/x-python",
   "name": "python",
   "nbconvert_exporter": "python",
   "pygments_lexer": "ipython3",
   "version": "3.7.9"
  },
  "orig_nbformat": 4
 },
 "nbformat": 4,
 "nbformat_minor": 2
}
